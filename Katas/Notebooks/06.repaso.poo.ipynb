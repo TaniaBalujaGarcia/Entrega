{
 "cells": [
  {
   "cell_type": "markdown",
   "id": "7e297314-748c-4310-a684-4e68e269a374",
   "metadata": {},
   "source": [
    "# Repaso de POO\n",
    "\n",
    "Vamos a crear una applicación de tipo catálogo de personajes de Star Wars, algo similar a la [Wookiepedia](https://starwars.fandom.com/wiki/Wookieepedia).\n",
    "\n",
    "Crea una jerarquía de clases sencilla para representar los personajes de Star Wars. Los Jedis y los Sith entienden ambos el mensaje \"unsheathe\" (desenvaina) que muestra un sable láser. Los sables de los Sith y de Los Jedis son distintos."
   ]
  },
  {
   "cell_type": "code",
   "execution_count": 53,
   "id": "5ed9967b-54d3-4191-83e5-ac697aad0d89",
   "metadata": {},
   "outputs": [],
   "source": [
    "from enum import Enum\n",
    "\n",
    "class Affiliation(Enum):\n",
    "    REBEL_ALLIANCE = 0\n",
    "    GALACTIC_EMPIRE = 1\n",
    "    UNKNOWN = 2\n",
    "    \n"
   ]
  },
  {
   "cell_type": "code",
   "execution_count": 83,
   "id": "69be6fe6-5142-45c7-b545-187eb67bec7f",
   "metadata": {},
   "outputs": [],
   "source": [
    "class StarWarsCharacter:\n",
    "    def __init__(self, name, alias, affiliation):\n",
    "        \"\"\"\n",
    "        Crea un personaje con nombre y alias\n",
    "        \"\"\"\n",
    "        self.name = name\n",
    "        self.alias = alias\n",
    "        self.affiliation = affiliation\n",
    "        \n",
    "    def __repr__(self):\n",
    "        \"\"\"\n",
    "        Muestra una representación textual del objeto\n",
    "        \"\"\"\n",
    "        return f'<{self.__class__}: {self.name} {self.alias}>'\n",
    "        "
   ]
  },
  {
   "cell_type": "code",
   "execution_count": 84,
   "id": "c7e26924-48fd-494c-8031-e203d33112b2",
   "metadata": {},
   "outputs": [],
   "source": [
    "class ForceSensitive(StarWarsCharacter):\n",
    "    \"\"\"\n",
    "    Representa personajes sensibles a la Fuerza\n",
    "    \"\"\"\n",
    "    def __init__(self, name, alias, affiliation, midichlorians):\n",
    "        super().__init__(name, alias, affiliation)\n",
    "        self.midichlorians = midichlorians\n",
    "        \n",
    "    def unsheathe(self):\n",
    "        \"\"\"\n",
    "        Este método, solo sirve para que mis subclases lo entiendan y no tenga que repetirlo\n",
    "        \"\"\"\n",
    "        raise NotImplementedError()\n"
   ]
  },
  {
   "cell_type": "code",
   "execution_count": 56,
   "id": "4a7c674e-398d-417e-9602-c9e310255cdf",
   "metadata": {},
   "outputs": [],
   "source": [
    "chewie = StarWarsCharacter('Chewbacca', 'Chewie', Affiliation.REBEL_ALLIANCE)\n",
    "jabba = StarWarsCharacter('Jabba Dessilic Tiure', 'Jabba The Hutt', Affiliation.UNKNOWN)"
   ]
  },
  {
   "cell_type": "code",
   "execution_count": 45,
   "id": "91a7e03e-de89-4cb9-8951-d9ef6b1d5538",
   "metadata": {},
   "outputs": [
    {
     "data": {
      "text/plain": [
       "<<class '__main__.StarWarsCharacter'>: Chewbacca Chewie>"
      ]
     },
     "execution_count": 45,
     "metadata": {},
     "output_type": "execute_result"
    }
   ],
   "source": [
    "StarWarsCharacter('Chewbacca', 'Chewie')"
   ]
  },
  {
   "cell_type": "code",
   "execution_count": 60,
   "id": "df3e6208-797a-41b3-99ba-665eff70a388",
   "metadata": {},
   "outputs": [
    {
     "data": {
      "text/plain": [
       "[<<class '__main__.StarWarsCharacter'>: Chewbacca Chewie>,\n",
       " <<class '__main__.StarWarsCharacter'>: Jabba Dessilic Tiure Jabba The Hutt>]"
      ]
     },
     "execution_count": 60,
     "metadata": {},
     "output_type": "execute_result"
    }
   ],
   "source": [
    "[chewie, jabba]"
   ]
  },
  {
   "cell_type": "markdown",
   "id": "c1a95b57-f127-433a-a1e1-75b47d0efbb4",
   "metadata": {},
   "source": [
    "##  `__repr__`\n",
    "\n",
    "Representación textual de un objeto. Muy bueno cuando estás depurando."
   ]
  },
  {
   "cell_type": "markdown",
   "id": "ad33eed8-3ce0-41e9-8bc8-e69ba0880135",
   "metadata": {},
   "source": [
    "## Subclases de ForceSensitive: Jedi"
   ]
  },
  {
   "cell_type": "code",
   "execution_count": 85,
   "id": "6749df1f-b5a9-42ee-b2c7-df7b261c91ea",
   "metadata": {},
   "outputs": [],
   "source": [
    "class Jedi(ForceSensitive):\n",
    "    def __init__(self, name, alias, midichlorians):\n",
    "        super().__init__(name, alias, Affiliation.REBEL_ALLIANCE, midichlorians)\n",
    "        \n",
    "    def unsheathe(self):\n",
    "        return '▐▍░▐░░▣░▒░▒░▒▕|' + \"█\" * 40"
   ]
  },
  {
   "cell_type": "code",
   "execution_count": 65,
   "id": "7f3154ea-4207-4d43-92a4-13f09a7900fc",
   "metadata": {},
   "outputs": [],
   "source": [
    "yoda = Jedi(alias = 'Master Yoda', name='Minch Yoda', midichlorians = 10000000)"
   ]
  },
  {
   "cell_type": "code",
   "execution_count": 32,
   "id": "8ee7f6c4-1045-469b-83b9-ccc83eb55a90",
   "metadata": {},
   "outputs": [
    {
     "data": {
      "text/plain": [
       "<StarWarsCharacter:Minch Yoda Master Yoda>"
      ]
     },
     "execution_count": 32,
     "metadata": {},
     "output_type": "execute_result"
    }
   ],
   "source": [
    "yoda"
   ]
  },
  {
   "cell_type": "code",
   "execution_count": 66,
   "id": "428456d3-6c25-4e62-8605-90003959d422",
   "metadata": {},
   "outputs": [
    {
     "data": {
      "text/plain": [
       "(<<class '__main__.Jedi'>: Minch Yoda Master Yoda>,\n",
       " <<class '__main__.StarWarsCharacter'>: Chewbacca Chewie>)"
      ]
     },
     "execution_count": 66,
     "metadata": {},
     "output_type": "execute_result"
    }
   ],
   "source": [
    "(yoda, chewie)"
   ]
  },
  {
   "cell_type": "markdown",
   "id": "fdde3767-60e8-468c-952f-f149f1857fdb",
   "metadata": {},
   "source": [
    "## Subclases de StarWarsCharacter: Sith"
   ]
  },
  {
   "cell_type": "code",
   "execution_count": 86,
   "id": "4a3af82a-9667-4d30-a952-c93b97ac766d",
   "metadata": {},
   "outputs": [],
   "source": [
    "class Sith(ForceSensitive):\n",
    "    def __init__(self, name, alias, midichlorians):\n",
    "        super().__init__(name, alias, Affiliation.GALACTIC_EMPIRE, midichlorians)\n",
    "        \n",
    "    def unsheathe(self):\n",
    "        return '▔▔▔▔▔▔▔▔▔▝▔▔▔ ' + \"█\" * 40\n",
    "    "
   ]
  },
  {
   "cell_type": "code",
   "execution_count": 76,
   "id": "a1142146-065b-4b86-93cd-65843260dec6",
   "metadata": {},
   "outputs": [
    {
     "data": {
      "text/plain": [
       "'▔▔▔▔▔▔▔▔▔▝▔▔▔ ████████████████████████████████████████'"
      ]
     },
     "execution_count": 76,
     "metadata": {},
     "output_type": "execute_result"
    }
   ],
   "source": [
    "'▔▔▔▔▔▔▔▔▔▝▔▔▔ ' + \"█\" * 40\n"
   ]
  },
  {
   "cell_type": "code",
   "execution_count": 87,
   "id": "81a718a6-f597-4ab2-acb4-9060cd4bdfe7",
   "metadata": {},
   "outputs": [],
   "source": [
    "luke = Jedi('Luke Skywalker', 'Luke', 1000000)"
   ]
  },
  {
   "cell_type": "code",
   "execution_count": 88,
   "id": "149b5d84-96b2-4d21-8b9b-ea3ddc0038ee",
   "metadata": {},
   "outputs": [],
   "source": [
    "palpatine= Sith('Palpatine', 'Darth Sidious', 1000000)"
   ]
  },
  {
   "cell_type": "code",
   "execution_count": 89,
   "id": "a67389bf-aa34-4a3a-923f-516fe85a94c0",
   "metadata": {},
   "outputs": [
    {
     "data": {
      "text/plain": [
       "'▐▍░▐░░▣░▒░▒░▒▕|████████████████████████████████████████'"
      ]
     },
     "execution_count": 89,
     "metadata": {},
     "output_type": "execute_result"
    }
   ],
   "source": [
    "luke.unsheathe()"
   ]
  },
  {
   "cell_type": "code",
   "execution_count": 90,
   "id": "83050e02-b369-4e21-9812-19707310c965",
   "metadata": {},
   "outputs": [
    {
     "data": {
      "text/plain": [
       "'▔▔▔▔▔▔▔▔▔▝▔▔▔ ████████████████████████████████████████'"
      ]
     },
     "execution_count": 90,
     "metadata": {},
     "output_type": "execute_result"
    }
   ],
   "source": [
    "palpatine.unsheathe()"
   ]
  },
  {
   "cell_type": "code",
   "execution_count": null,
   "id": "cc8bd712-8d10-43e6-a246-feb89fa8867a",
   "metadata": {},
   "outputs": [],
   "source": []
  }
 ],
 "metadata": {
  "kernelspec": {
   "display_name": "Python 3 (ipykernel)",
   "language": "python",
   "name": "python3"
  },
  "language_info": {
   "codemirror_mode": {
    "name": "ipython",
    "version": 3
   },
   "file_extension": ".py",
   "mimetype": "text/x-python",
   "name": "python",
   "nbconvert_exporter": "python",
   "pygments_lexer": "ipython3",
   "version": "3.10.7"
  }
 },
 "nbformat": 4,
 "nbformat_minor": 5
}
