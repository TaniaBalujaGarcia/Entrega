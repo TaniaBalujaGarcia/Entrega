{
 "cells": [
  {
   "cell_type": "markdown",
   "id": "b08c00de-b1e2-4332-be59-df2523e79833",
   "metadata": {},
   "source": [
    "## Función `length`\n",
    "\n",
    "Crea la función `length()` que recibe una lista y devuelve su longitud. \n",
    "\n",
    "`length` es una función de tipo *reductora*: recibe un conjunto o secuencia de datos, y lo reduce a uno solo. Veremos muchos más casos en el futuro.\n"
   ]
  },
  {
   "cell_type": "code",
   "execution_count": 2,
   "id": "3c5a13b4-745b-496e-9957-5fdfc8a71fb9",
   "metadata": {},
   "outputs": [],
   "source": [
    "def length(seq):\n",
    "    # crea una variable donde acumular el tamaño\n",
    "    # recorre la lista `seq` y ve sumando 1 al acumulador por cada elemento\n",
    "    # devuelve lo acumulado\n",
    "    pass"
   ]
  },
  {
   "cell_type": "markdown",
   "id": "9d6f2d5b-4098-4a21-a67e-fdb2031a15e5",
   "metadata": {},
   "source": [
    "El bucle se puede hacer tanto con un `for` como con un `while`. Hazlo de las dos formas (`lenghtf` con `for` y `lengthw` con un `while`). Comprueba que ambos funcionan.\n",
    "\n",
    "Recuerda siempre probar con *casos límite*. Por ejemplo, ¿cual debería de ser el valor de: `length([])`? "
   ]
  },
  {
   "cell_type": "markdown",
   "id": "3db98a7e-ce11-4247-82aa-22051c9c892a",
   "metadata": {},
   "source": [
    "-------------------------"
   ]
  },
  {
   "cell_type": "code",
   "execution_count": 11,
   "id": "74952e2f-fc06-41a4-b0eb-02d236be2b0d",
   "metadata": {},
   "outputs": [],
   "source": [
    "# Solución (¡spoiler!)\n",
    "def lengthf(seq):\n",
    "    accum = 0\n",
    "    for item in seq:\n",
    "        accum = accum + 1\n",
    "    return accum\n",
    "\n",
    "def lengthw(seq):\n",
    "    accum = 0\n",
    "    index = 0\n",
    "    while index <= len(seq):\n",
    "        index = index + 1\n",
    "        accum = accum + 1\n",
    "    return accum\n",
    "\n",
    "# o más sencillo\n",
    "def lengthw2(seq):\n",
    "    index = 0\n",
    "    while index <= len(seq):\n",
    "        index = index + 1\n",
    "    return index\n",
    "\n",
    "\n"
   ]
  },
  {
   "cell_type": "markdown",
   "id": "84d24efc-c616-4e21-b015-dbc3c80ad087",
   "metadata": {},
   "source": [
    "# Función `is_member`"
   ]
  },
  {
   "cell_type": "markdown",
   "id": "19587d3e-5650-47ad-8605-2259308678fa",
   "metadata": {},
   "source": [
    "La función `is_member` recibe dos parámetros. El primero es un valor cualquiera, y el segundo es una lista. `is_member` devuelve `True` si el primer parámetro se encuentra dentro de la lista y `False`en caso contrario.\n",
    "\n",
    "`is_member` es una función que devuelve un booleano y actúa como un test: determina si algo es miembro de una lista o no. Las funciones que devuelven un booleano, se llaman **predicados** y veremos muchos a lo largo de nuestro viaje.\n",
    "\n",
    "No utilices el operador `in` de Python, crea tu propia función iterando por ella.\n",
    "\n",
    "Ejemplos de funcionamiento:"
   ]
  },
  {
   "cell_type": "raw",
   "id": "d1963310-2de2-4c4f-8a4b-565fd491c411",
   "metadata": {},
   "source": [
    "is_member(3, []) -> False\n",
    "is_member('lucas', [1,2,3, None, True] -> False\n",
    "is_member(None, ['hola', None, 'mundo']) -> True\n",
    "is_member(3, [1,2,4, [3]]) -> False (¿por qué?)\n",
    "is_member([], ['op', None, []]) -> True"
   ]
  },
  {
   "cell_type": "code",
   "execution_count": null,
   "id": "554c4911-6189-4a12-abef-01c16461ff9e",
   "metadata": {},
   "outputs": [],
   "source": [
    "# completa esta definición para que funcione\n",
    "def is_member(needle, seq):\n",
    "    \"\"\"\n",
    "    Recibe dos parámetros, el primero es el que se busca y el segundo es la secuencia (lista) en\n",
    "    la cual creemos que está. Devuelve True si needle está en la secuencia\n",
    "    \"\"\"\n",
    "    found = False #indica si lo hemos encontrado o no\n",
    "    index = 0     #contador para recorrer la lista\n",
    "    while ???? :\n",
    "        # compara needle con el elemento\n",
    "        # actualiza el elemento\n",
    "    return found"
   ]
  },
  {
   "cell_type": "markdown",
   "id": "a6d45be9-2f25-4054-8488-c02e79a9e442",
   "metadata": {},
   "source": [
    "1) Reescribe la función con un `for` y asegúrate de que funciona\n",
    "2) Asegúrate de que la función no recorre más elementos de los necesarios; es decir, cuando encuentra la \" aguja\" para de iterar por la lista.\n"
   ]
  },
  {
   "cell_type": "markdown",
   "id": "cc6499a3-e503-4d6d-bf0a-3ec4541f8345",
   "metadata": {},
   "source": [
    "------------"
   ]
  },
  {
   "cell_type": "code",
   "execution_count": 14,
   "id": "0baa8784-03c6-4800-b125-6c21fe8aefdb",
   "metadata": {},
   "outputs": [],
   "source": [
    "# solución (¡spoiler!)\n",
    "def is_member(needle, seq):\n",
    "    \"\"\"\n",
    "    Recibe dos parámetros, el primero es el que se busca y el segundo es la secuencia (lista) en\n",
    "    la cual creemos que está. Devuelve True si needle está en la secuencia\n",
    "    \"\"\"\n",
    "    found = False #indica si lo hemos encontrado o no\n",
    "    index = 0     #contador para recorrer la lista\n",
    "    while index < len(seq) and not found :\n",
    "        # compara needle con el elemento\n",
    "        if needle == seq(index):\n",
    "            found = True\n",
    "        # actualiza el elemento\n",
    "        index = index + 1\n",
    "    return found\n",
    "\n",
    "def is_memberf(needle, seq):\n",
    "    found = False\n",
    "    for item in seq:\n",
    "        if needle == item:\n",
    "            found = True\n",
    "            break\n",
    "    return found"
   ]
  },
  {
   "cell_type": "markdown",
   "id": "bc17ae8d-dd7f-422e-a585-8d2ec0f2bf5e",
   "metadata": {},
   "source": [
    "# Función `is_not_member`"
   ]
  },
  {
   "cell_type": "markdown",
   "id": "225b470f-1095-4abb-a7c3-92656f792051",
   "metadata": {},
   "source": [
    "`is_not_member` es el predicado opuesto a `is_member`: cuando `is_member` devuelve `True`, `is_not_member` devuelve `False` y vice versa. Es decir, `is_not_member` es un predicado que determina si needle **no** es parte de la lista.\n",
    "\n",
    "Implementa `is_not_member` haciendo uso de `is_member`. Recuerda, **DRY: do not repeat yourself**"
   ]
  },
  {
   "cell_type": "markdown",
   "id": "ced80849-9caf-4a2b-828e-7e7120a65bf7",
   "metadata": {},
   "source": [
    "--------------"
   ]
  },
  {
   "cell_type": "code",
   "execution_count": 16,
   "id": "4813ad70-6b3a-4151-950f-87710c1e8643",
   "metadata": {},
   "outputs": [],
   "source": [
    "# Solución (Spoiler)\n",
    "def is_not_member(needle, seq):\n",
    "    return not is_member(needle, seq)\n"
   ]
  },
  {
   "cell_type": "markdown",
   "id": "1511a7a1-b650-41d6-9d16-12bcdf3f111b",
   "metadata": {},
   "source": [
    "# Función `how_many`\n",
    "\n",
    "La función `how_many` recibe dos parámetros: lo que buscamos (la aguja) y una lista. Debe de devolver la cantidad de veces que la aguja aparece en la lista.\n",
    "\n",
    "* `how_many(4, ['lucas', 'grijander']) => 0`\n",
    "* `how_many(42, [None, [], [42], 42]) => 1`\n",
    "* `how_many(42, [42, 42, '42']) => 2`\n",
    "\n",
    "Hazlo con un `for` y luego con un `while`.\n",
    "\n",
    "`how_many` es una función que recibe una secuencia o lista de valores y devuelve uno solo, que no es un `booleano`. "
   ]
  },
  {
   "cell_type": "markdown",
   "id": "180d6e53-29a2-49da-9928-ad4935c58327",
   "metadata": {},
   "source": [
    "--------------"
   ]
  },
  {
   "cell_type": "code",
   "execution_count": 17,
   "id": "1f896a50-6558-4414-b29e-af25eb2d9f2e",
   "metadata": {},
   "outputs": [],
   "source": [
    "# Solución\n",
    "def how_many(needle, seq):\n",
    "    occurrences = 0\n",
    "    for item in seq:\n",
    "        if item == needle:\n",
    "            occurrences = ocurrences + 1\n",
    "    return occurrences\n",
    "\n",
    "def how_manyw(needle, seq):\n",
    "    occurrences = 0\n",
    "    index = 0\n",
    "    while index < len(seq):\n",
    "        if seq(index) == needle:\n",
    "            occurrences = occurrences + 1\n",
    "    return occurrences"
   ]
  },
  {
   "cell_type": "markdown",
   "id": "89de3f09-f1c9-4449-98c3-73fd0dd16970",
   "metadata": {},
   "source": [
    "# Función sum_all"
   ]
  },
  {
   "cell_type": "markdown",
   "id": "edf07ff9-da28-4aa6-b267-8418c421018f",
   "metadata": {},
   "source": [
    "La función `sum_all` recibe una lista de números y devuelve su suma. Es una función **reductora**."
   ]
  },
  {
   "cell_type": "raw",
   "id": "7706bb8b-c5d7-4980-b2ec-98fd68f17d80",
   "metadata": {},
   "source": [
    "def sum_all(numbers):\n",
    "    sum = ?? # sustituye cual debería de ser el valor inicial\n",
    "    for element in numbers:\n",
    "        sum = ?? # sustituye aquí lo correcto\n",
    "    return ?? # qué devolvemos?"
   ]
  },
  {
   "cell_type": "markdown",
   "id": "c5623667-cc92-4a69-835d-c6b46a28c902",
   "metadata": {},
   "source": [
    "Cuando la tengas dominada, rehazla con un `while`."
   ]
  },
  {
   "cell_type": "markdown",
   "id": "27b227f2-b52b-42fb-979a-9d444c95160a",
   "metadata": {},
   "source": [
    "---------"
   ]
  },
  {
   "cell_type": "code",
   "execution_count": 18,
   "id": "6523ed64-165b-4cad-be31-c7cb78d6f83f",
   "metadata": {},
   "outputs": [],
   "source": [
    "#solución\n",
    "def sum_all(numbers):\n",
    "    sum = 0\n",
    "    for element in numbers:\n",
    "        sum = sum + element\n",
    "    return sum\n",
    "\n",
    "def sum_allw(numbers):\n",
    "    index = 0\n",
    "    sum = 0\n",
    "    while index < len(numbers):\n",
    "        sum = sum + numbers(index)\n",
    "        index = index + 1\n",
    "    return sum"
   ]
  },
  {
   "cell_type": "markdown",
   "id": "b0a9dbf6-ec61-4eaf-ae62-e5e264cff0a5",
   "metadata": {},
   "source": [
    "# Función `multiply_all`\n",
    "\n",
    "Otra función **reductora**. La función `multiply_all` recib euna lista de números y devuelve su producto, es decir, los va multiplicando el uno por el otro."
   ]
  },
  {
   "cell_type": "raw",
   "id": "96ea827f-9642-48cc-87a3-45c4c1063376",
   "metadata": {},
   "source": [
    "def multiply_all(numbers):\n",
    "    prod = ?? # sustituye cual debería de ser el valor inicial\n",
    "    for element in numbers:\n",
    "        prod = ?? # sustituye aquí lo correcto\n",
    "    return ?? # qué devolvemos?"
   ]
  },
  {
   "cell_type": "markdown",
   "id": "b4f20a26-1b8d-4afa-82ff-76ec908461d7",
   "metadata": {},
   "source": [
    "Cuando la tengas dominada, rehazla con un `while`."
   ]
  },
  {
   "cell_type": "markdown",
   "id": "10d581d7-8b8d-411e-acd4-93311a1f3e8d",
   "metadata": {},
   "source": [
    "--------------"
   ]
  },
  {
   "cell_type": "code",
   "execution_count": null,
   "id": "f763c2b1-220c-4b6e-8b8c-b43af5a85ecf",
   "metadata": {},
   "outputs": [],
   "source": [
    "#solución\n",
    "def multiply_all(numbers):\n",
    "    prod = 0\n",
    "    for element in numbers:\n",
    "        prod = prod * element\n",
    "    return prod\n",
    "\n",
    "def multiply_allw(numbers):\n",
    "    index = 0\n",
    "    prod = 0\n",
    "    while index < len(numbers):\n",
    "        prod = prod * numbers(index)\n",
    "        index = index + 1\n",
    "    return prod"
   ]
  },
  {
   "cell_type": "markdown",
   "id": "5c368da3-af62-42b6-8c0c-329e4fd747f0",
   "metadata": {},
   "source": [
    "# Función `concat_all`"
   ]
  },
  {
   "cell_type": "markdown",
   "id": "b3389b6f-ad04-4b84-9687-4ea1b434d6e3",
   "metadata": {},
   "source": [
    "Otro caso de función reductora. Acepta una lista de cadenas y las reduce a una sola, mediante la operación de concatenación (unir una con otra). \n",
    "\n",
    "En Python se utiliza para la concatenación el símbolo de `+`, como si fuese una suma, pero ¡OJO!, no es una suma:\n",
    "\n",
    "* suma: 3 + 2 == 2 + 3\n",
    "* concatenación: '3' + '2' == '32' != '2' + '3' == '23'  \n",
    "\n",
    "Termina la definición de la función en base a la plantilla:"
   ]
  },
  {
   "cell_type": "raw",
   "id": "9e4c2037-c288-4135-a86d-542cb411edc9",
   "metadata": {},
   "source": [
    "def concat_all(strings):\n",
    "    \"\"\"\n",
    "    Recibe lista de cadenas y las reduce a una sola\n",
    "    concatenandolas\n",
    "    \"\"\"\n",
    "    total_so_far = ??? # cual debe de ser el valor inicial?\n",
    "    for element in strings:\n",
    "        total_so_far = total_so_far + element\n",
    "    return total_so_far"
   ]
  },
  {
   "cell_type": "markdown",
   "id": "d5be04bd-11b7-4884-80a8-4800ee5b1a41",
   "metadata": {},
   "source": [
    "--------------"
   ]
  },
  {
   "cell_type": "code",
   "execution_count": 20,
   "id": "92dd6308-186e-4f25-a51d-3609aadc351a",
   "metadata": {},
   "outputs": [],
   "source": [
    "#solución\n",
    "def concat_all(strings):\n",
    "    \"\"\"\n",
    "    Recibe lista de cadenas y las reduce a una sola\n",
    "    concatenandolas\n",
    "    \"\"\"\n",
    "    total_so_far = ''\n",
    "    for element in strings:\n",
    "        total_so_far = total_so_far + element\n",
    "    return total_so_far"
   ]
  },
  {
   "cell_type": "markdown",
   "id": "cb43c878-71d2-49c1-a401-666a485cfe0f",
   "metadata": {},
   "source": [
    "# Función `and_all`\n",
    "\n",
    "Ahora vamos a intentar reducir una lista de *booleanos* con la operación `and`. Al igual que en los otros casos, necesitamos:\n",
    "\n",
    "* una lista de elementos (booleanos en este caso)\n",
    "* un valor inicial del mismo tipo que los que estáne n la lista, pero uno que resulta ser un valor nulo (inofensivo, no hace nada): el 0 en la suma, el 1 en la multiplicación y la cadena vacía en la concatenación.\n",
    "* una operación entre dos de esos elementos, cuyo resultado es del mismo tipo (combina dos números y te devuelve otro número, etc...)\n",
    "\n",
    "La operación que vamos a usar es el `and`."
   ]
  },
  {
   "cell_type": "raw",
   "id": "25282e3c-030a-45bc-be50-d03407ae4103",
   "metadata": {},
   "source": [
    "def and_all(bools):\n",
    "    \"\"\"\n",
    "    Reduce una lista de booleanos a uno solo, usando el and\n",
    "    \"\"\"\n",
    "    total_so_far = ??? # cual debería de ser el valor inicial\n",
    "    for element in bools:\n",
    "        total_so_far = ??? # cual es la operación?\n",
    "    return total_so_far"
   ]
  },
  {
   "cell_type": "markdown",
   "id": "d80ac9de-5d5d-42c7-b034-71e949e14425",
   "metadata": {},
   "source": [
    "Si lo piensas, verás que and_all actúa de la siguiente manera:\n",
    "* si todos los elementos de la lista son verdaderos (`True`), devuelve `True`\n",
    "* si alguno falla, si sólo uno es falso, entonces devuelve `False`.\n",
    "\n",
    "Tal vez un mejor nombre sería `is_all_true` (¿son todos verdaderos?)."
   ]
  },
  {
   "cell_type": "markdown",
   "id": "9017d12f-d731-4138-9b4d-f61fd8d9d791",
   "metadata": {},
   "source": [
    "-----------"
   ]
  },
  {
   "cell_type": "code",
   "execution_count": 21,
   "id": "fc4d717c-ced3-4a86-9b2f-16c3929fa1fc",
   "metadata": {},
   "outputs": [],
   "source": [
    "#solución\n",
    "def and_all(bools):\n",
    "    \"\"\"\n",
    "    Reduce una lista de booleanos a uno solo, usando el and\n",
    "    \"\"\"\n",
    "    total_so_far = True\n",
    "    for element in bools:\n",
    "        total_so_far = total_so_far and element\n",
    "    return total_so_far"
   ]
  },
  {
   "cell_type": "markdown",
   "id": "7dec1bc4-c308-42ce-9fb0-67f57d8648e1",
   "metadata": {},
   "source": [
    "# Compara todas estas funciones"
   ]
  },
  {
   "cell_type": "markdown",
   "id": "e81b869f-4fde-4a88-8de0-3c91344d3e9e",
   "metadata": {},
   "source": [
    "Escribe en un papel dos de las funciones, lado a lado. \n",
    "\n",
    "Verás que buena parte del código es común. Destaca con lápiz lo que es común y con un lápiz rojo lo que *no* es común."
   ]
  },
  {
   "cell_type": "markdown",
   "id": "d74b585a-5842-444c-9877-3831841228c9",
   "metadata": {},
   "source": [
    "* ¿Cómo describirías, en Español, la parte común? ¿Qué hace exactamente?\n",
    "* ¿Cómo describirías la parte paricular de cada una? ¿Qué hace exactamente?"
   ]
  },
  {
   "cell_type": "markdown",
   "id": "ce80eee1-18a2-4e06-a54f-1d0c9fc8b696",
   "metadata": {},
   "source": [
    "## DRY: Do Not Repeat Yourself!\n",
    "\n",
    "Las dos funciones son muy parecidas y tienen gran parte de su código común. Esto no es nada bueno, ya que vulnera uno de los pilares de la ciberkinesis. \n",
    "\n",
    "Claramente hay una otra función, más genérica que `sum_all`,  `multiply_all`, y compañía, luchando por salir. Una que aporta lo común que tienen `sum_all` y `multiply_all` y que *recibe por parámetro lo especial* en cada caso.\n",
    "\n",
    "Todavía no sabemos cómo implementarla, pero pronto lo veremos. De momento, llamaremos a esa función misteriosa, `reduce`. "
   ]
  },
  {
   "cell_type": "markdown",
   "id": "a57259e1-ec26-4819-ac61-c9088ff72972",
   "metadata": {},
   "source": [
    "## Función `reduce`\n",
    "\n",
    "La función `reduce` recorre una lista, y a medida que avanza, va combinando los elementos de la lista *mediante alguna operación (vaya a ud a saber cual)* y devuelve el resultado final de toda esa combinación.\n",
    "\n",
    "Podría tener una pinta como esta:"
   ]
  },
  {
   "cell_type": "raw",
   "id": "000ed1b1-b881-4ec4-b868-7b625124cb78",
   "metadata": {},
   "source": [
    "def reduce(seq, initial_value, combinator):\n",
    "    \"\"\"\n",
    "    Recorre una lista llamada seq y va combinando los valores mediante un combinador (que no sabemos muy bien qué es, pero que se recibe como parámetro. Devuelve el valor reducido o combinado de todos los elementos de la lista.\n",
    "    \"\"\"\n",
    "    accum = inital_value\n",
    "    for element in seq:\n",
    "        accum = ???????\n",
    "    return ????"
   ]
  },
  {
   "cell_type": "markdown",
   "id": "71dd65e4-b479-44df-a338-4d2b71e45480",
   "metadata": {},
   "source": [
    "¿Se te ocurre cómo se podría completar esta función?"
   ]
  },
  {
   "cell_type": "code",
   "execution_count": 1,
   "id": "cd966ba2-7d78-48f6-a2f9-2de770a40113",
   "metadata": {},
   "outputs": [],
   "source": [
    "def reduce(seq, initial_value, combinator):\n",
    "    \"\"\"\n",
    "    Recorre una lista llamada seq y va combinando los valores mediante un \n",
    "    combinador (que no sabemos muy bien qué es, pero que se recibe como parámetro. \n",
    "    Devuelve el valor reducido o combinado de todos los elementos de la lista.\n",
    "    \"\"\"\n",
    "    accum = initial_value\n",
    "    for element in seq:\n",
    "        accum = combinator(accum, element) \n",
    "    return accum"
   ]
  },
  {
   "cell_type": "code",
   "execution_count": 8,
   "id": "10a9397e-118c-4335-8b23-fbd70fd64658",
   "metadata": {},
   "outputs": [],
   "source": [
    "def sum(a, b):\n",
    "    return a + b\n",
    "\n",
    "def product(a,b):\n",
    "    return a * b\n",
    "\n",
    "def concat(a, b):\n",
    "    return a + b\n"
   ]
  },
  {
   "cell_type": "markdown",
   "id": "8fa985f5-f7e4-4717-b481-66248202d525",
   "metadata": {},
   "source": [
    "### Expresiones lambda o funciones anónimas\n",
    "\n",
    "Existe, en Python, pero en plan un poco limitado (sólo pueden tener una linea).\n",
    "`lambda x, y : x * y`"
   ]
  },
  {
   "cell_type": "code",
   "execution_count": 10,
   "id": "a7799436-b7ff-40bc-88cf-90e301fe8172",
   "metadata": {},
   "outputs": [
    {
     "data": {
      "text/plain": [
       "', EUR3, USD44, CHF23'"
      ]
     },
     "execution_count": 10,
     "metadata": {},
     "output_type": "execute_result"
    }
   ],
   "source": [
    "reduce([1,2,3,4,5,6,7,8], 1, lambda a,b : a*b)\n",
    "reduce(['EUR3', 'USD44', 'CHF23'], '', lambda x, y: x + ', ' + y)"
   ]
  },
  {
   "cell_type": "code",
   "execution_count": 22,
   "id": "8b4b96aa-d140-40b1-83b4-1dc4e124f4d3",
   "metadata": {},
   "outputs": [],
   "source": [
    "## Cómo quedarían las anteriores funciones, utilizando reduce?\n",
    "\n",
    "def sum_all(items):\n",
    "    return reduce(items, 0, lambda a,b: a + b)\n",
    "\n",
    "def prod_all(items):\n",
    "    return reduce(items, 1, lambda a,b: a * b)\n",
    "\n",
    "def concat_all(items):\n",
    "    return reduce(items, '', lambda a, b: a + b)\n",
    "\n",
    "def and_all(items):\n",
    "    return reduce(items, True, lambda a,b : a and b)\n"
   ]
  },
  {
   "cell_type": "markdown",
   "id": "12020167-1c1c-4546-af9d-74ee66b94771",
   "metadata": {},
   "source": [
    "## Funciones de alto nivel\n",
    "\n",
    "Habíamos hablado que las funciones eran el Guantelete del Infinito de la programación. Las gemas de dicho guantelete son:\n",
    "\n",
    "1. Funciones de primera clase\n",
    "1. Clausuras\n",
    "1. Funciones anónimas\n",
    "1. Funciones de alto nivel\n",
    "1. Funciones recursivas\n",
    "\n",
    "\n"
   ]
  },
  {
   "cell_type": "code",
   "execution_count": null,
   "id": "6c87bedf-767f-438e-b3b9-74bd814396d0",
   "metadata": {},
   "outputs": [],
   "source": []
  },
  {
   "cell_type": "markdown",
   "id": "dd7388b2-0ba1-4403-94a7-07deedeec2a8",
   "metadata": {},
   "source": [
    "---------------------"
   ]
  },
  {
   "cell_type": "markdown",
   "id": "b8dde9bd-61ac-42b7-8cf4-e4cca1e472b2",
   "metadata": {},
   "source": [
    "# Resumen\n",
    "\n",
    "* Las funciones que actúan sobre listas, suelen seguir un cierto patrón. Todas recorren la lista y eso se puede hacer con un bucle `while` o con un bucle `for`.\n",
    "* Las funciones que devuelven un `booleano`, se llaman **predicados**. Un predicado NO tiene por qué actuar sobre una lista. Una función que recib eun número, y decide si es par, es un **predicado**.\n",
    "* Las funciones que recorren una lista de elementos, aplicándoles una operación binaria y que devuelven un sólo elemento del msimo tipo, se llaman **reductoras**, puesto que *reducen* una lista de cosas a una sola cosa. La función `SUM`que se usa para sumar toda una columna en una hoja de cálculo, es un ejemplo de **reductora**.\n",
    "* Las funciones **reductoras** se parecen tanto, pero tanto, que deberíamos buscar alguna froma de expresarlas con una sola función, pero aun no sabemos como hacerla. Eso sí, es incuestionable que existe una función `reduce` luchando por salir."
   ]
  },
  {
   "cell_type": "markdown",
   "id": "0615c97e-7192-48a7-aefe-d08dc1c07d9e",
   "metadata": {},
   "source": [
    "# Resumen de reduce\n"
   ]
  },
  {
   "cell_type": "markdown",
   "id": "2132bf37-b373-48cf-a5ce-bde5913d34f0",
   "metadata": {},
   "source": [
    "`reduce` recibe una lista homogenea (los elementos deben de ser del mismo tipo) y devuelve un sólo elemento, resultado de combinarlos entre sí:\n",
    "\n",
    "[👻, 👻, 👻,👻, 👻] -----> **👻**\n",
    "\n",
    "[número, número, número] ---------> número\n",
    "\n",
    "[cadena, cadena, cadena, cadena] -------> cadena\n",
    "\n",
    "`reduce` es una función de alto nivel (también llamada de orden superior) que acepta otra función como uno de sus parámetros. De esa forma podemos encapsular la operación de combinar o reducir dos elementos a uno.\n",
    "\n",
    "Es una forma de *divide y vencerás*: ya nos podemos olvidar de procesar toda la lista, sólo nos tenemos que preocupar de **cómo combinar dos elementos entre sí**.\n",
    "\n",
    "\n"
   ]
  },
  {
   "cell_type": "code",
   "execution_count": null,
   "id": "0813d941-e19d-401b-953b-9009847ab767",
   "metadata": {},
   "outputs": [],
   "source": []
  }
 ],
 "metadata": {
  "kernelspec": {
   "display_name": "Python 3 (ipykernel)",
   "language": "python",
   "name": "python3"
  },
  "language_info": {
   "codemirror_mode": {
    "name": "ipython",
    "version": 3
   },
   "file_extension": ".py",
   "mimetype": "text/x-python",
   "name": "python",
   "nbconvert_exporter": "python",
   "pygments_lexer": "ipython3",
   "version": "3.10.7"
  }
 },
 "nbformat": 4,
 "nbformat_minor": 5
}
